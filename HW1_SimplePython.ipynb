{
 "cells": [
  {
   "cell_type": "code",
   "execution_count": null,
   "id": "693b527e",
   "metadata": {},
   "outputs": [],
   "source": [
    "import numpy as np\n",
    "import matplotlib.pyplot as plt"
   ]
  },
  {
   "cell_type": "code",
   "execution_count": null,
   "id": "fb4366b8",
   "metadata": {},
   "outputs": [],
   "source": [
    "my_list = [1, 2, 3, 4, 5]\n",
    "my_array = np.array([1, 2, 3, 4, 5])"
   ]
  },
  {
   "cell_type": "code",
   "execution_count": null,
   "id": "b593c7e5",
   "metadata": {},
   "outputs": [],
   "source": [
    "def my_function(x):\n",
    "    return x * 2\n",
    "print(my_function(5))"
   ]
  },
  {
   "cell_type": "code",
   "execution_count": null,
   "id": "509d86c7",
   "metadata": {},
   "outputs": [],
   "source": [
    "plt.plot(my_array)\n",
    "plt.title('Simple Line Plot')\n",
    "plt.savefig('simple_plot.png')\n",
    "plt.show()"
   ]
  }
 ],
 "metadata": {
  "kernelspec": {
   "display_name": "Python 3 (ipykernel)",
   "language": "python",
   "name": "python3"
  },
  "language_info": {
   "codemirror_mode": {
    "name": "ipython",
    "version": 3
   },
   "file_extension": ".py",
   "mimetype": "text/x-python",
   "name": "python",
   "nbconvert_exporter": "python",
   "pygments_lexer": "ipython3",
   "version": "3.9.13"
  }
 },
 "nbformat": 4,
 "nbformat_minor": 5
}
